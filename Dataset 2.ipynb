{
 "cells": [
  {
   "cell_type": "code",
   "execution_count": 4,
   "metadata": {},
   "outputs": [],
   "source": [
    "import numpy as np\n",
    "import tensorflow as tf"
   ]
  },
  {
   "cell_type": "code",
   "execution_count": 5,
   "metadata": {},
   "outputs": [
    {
     "name": "stdout",
     "output_type": "stream",
     "text": [
      "[0 1 2 3 4 5 6 7 8 9]\n"
     ]
    }
   ],
   "source": [
    "x = np.arange(0, 10)\n",
    "print(x)"
   ]
  },
  {
   "cell_type": "code",
   "execution_count": 7,
   "metadata": {},
   "outputs": [
    {
     "name": "stdout",
     "output_type": "stream",
     "text": [
      "<TensorSliceDataset shapes: (), types: tf.int64>\n"
     ]
    }
   ],
   "source": [
    "dx = tf.data.Dataset.from_tensor_slices(x)\n",
    "print(dx)"
   ]
  },
  {
   "cell_type": "code",
   "execution_count": 10,
   "metadata": {},
   "outputs": [
    {
     "name": "stdout",
     "output_type": "stream",
     "text": [
      "0\n",
      "1\n",
      "2\n",
      "3\n",
      "4\n",
      "5\n",
      "6\n",
      "7\n",
      "8\n",
      "9\n"
     ]
    }
   ],
   "source": [
    "iterator = dx.make_one_shot_iterator()\n",
    "next_element = iterator.get_next()\n",
    "\n",
    "with tf.Session() as sess:\n",
    "    for i in range(10):\n",
    "        val = sess.run(next_element)\n",
    "        print(val)"
   ]
  },
  {
   "cell_type": "code",
   "execution_count": 15,
   "metadata": {},
   "outputs": [
    {
     "name": "stdout",
     "output_type": "stream",
     "text": [
      "0\n",
      "1\n",
      "2\n",
      "3\n",
      "4\n",
      "5\n",
      "6\n",
      "7\n",
      "8\n",
      "9\n",
      "0\n",
      "1\n",
      "2\n",
      "3\n",
      "4\n"
     ]
    }
   ],
   "source": [
    "iterator = dx.make_initializable_iterator()\n",
    "next_element = iterator.get_next()\n",
    "\n",
    "with tf.Session() as sess:\n",
    "    sess.run(iterator.initializer)\n",
    "    for i in range(15):\n",
    "        val = sess.run(next_element)\n",
    "        print(val)\n",
    "        if i % 9 == 0 and i > 0:\n",
    "            sess.run(iterator.initializer)"
   ]
  },
  {
   "cell_type": "code",
   "execution_count": 17,
   "metadata": {},
   "outputs": [
    {
     "name": "stdout",
     "output_type": "stream",
     "text": [
      "[0 1 2]\n",
      "[3 4 5]\n",
      "[6 7 8]\n",
      "[0 1 2]\n",
      "[3 4 5]\n",
      "[6 7 8]\n",
      "[0 1 2]\n",
      "[3 4 5]\n",
      "[6 7 8]\n",
      "[0 1 2]\n",
      "[3 4 5]\n",
      "[6 7 8]\n",
      "[0 1 2]\n",
      "[3 4 5]\n",
      "[6 7 8]\n"
     ]
    }
   ],
   "source": [
    "dx = tf.data.Dataset.from_tensor_slices(x).batch(3)\n",
    "iterator = dx.make_initializable_iterator()\n",
    "next_element = iterator.get_next()\n",
    "\n",
    "with tf.Session() as sess:\n",
    "    sess.run(iterator.initializer)\n",
    "    for i in range(15):\n",
    "        val = sess.run(next_element)\n",
    "        print(val)\n",
    "        if (i + 1) % (10 // 3) == 0 and i > 0:\n",
    "            sess.run(iterator.initializer)"
   ]
  },
  {
   "cell_type": "code",
   "execution_count": null,
   "metadata": {},
   "outputs": [],
   "source": [
    "x = np.arange(0, 10)\n",
    "y = np.arange(1, 11)"
   ]
  },
  {
   "cell_type": "code",
   "execution_count": 20,
   "metadata": {},
   "outputs": [
    {
     "name": "stdout",
     "output_type": "stream",
     "text": [
      "(array([0, 1, 2]), array([1, 2, 3]))\n",
      "(array([3, 4, 5]), array([4, 5, 6]))\n",
      "(array([6, 7, 8]), array([7, 8, 9]))\n",
      "(array([0, 1, 2]), array([1, 2, 3]))\n",
      "(array([3, 4, 5]), array([4, 5, 6]))\n",
      "(array([6, 7, 8]), array([7, 8, 9]))\n",
      "(array([0, 1, 2]), array([1, 2, 3]))\n",
      "(array([3, 4, 5]), array([4, 5, 6]))\n",
      "(array([6, 7, 8]), array([7, 8, 9]))\n",
      "(array([0, 1, 2]), array([1, 2, 3]))\n",
      "(array([3, 4, 5]), array([4, 5, 6]))\n",
      "(array([6, 7, 8]), array([7, 8, 9]))\n",
      "(array([0, 1, 2]), array([1, 2, 3]))\n",
      "(array([3, 4, 5]), array([4, 5, 6]))\n",
      "(array([6, 7, 8]), array([7, 8, 9]))\n"
     ]
    }
   ],
   "source": [
    "# create dataset objects from the arrays\n",
    "dx = tf.data.Dataset.from_tensor_slices(x)\n",
    "dy = tf.data.Dataset.from_tensor_slices(y)\n",
    "# zip the two datasets together\n",
    "dcomb = tf.data.Dataset.zip((dx, dy)).batch(3)\n",
    "iterator = dcomb.make_initializable_iterator()\n",
    "# extract an element\n",
    "next_element = iterator.get_next()\n",
    "with tf.Session() as sess:\n",
    "    sess.run(iterator.initializer)\n",
    "    for i in range(15):\n",
    "        val = sess.run(next_element)\n",
    "        print(val)\n",
    "        if (i + 1) % (10 // 3) == 0 and i > 0:\n",
    "            sess.run(iterator.initializer)"
   ]
  },
  {
   "cell_type": "code",
   "execution_count": 21,
   "metadata": {},
   "outputs": [
    {
     "name": "stdout",
     "output_type": "stream",
     "text": [
      "(array([0, 1, 2]), array([1, 2, 3]))\n",
      "(array([3, 4, 5]), array([4, 5, 6]))\n",
      "(array([6, 7, 8]), array([7, 8, 9]))\n",
      "(array([9, 0, 1]), array([10,  1,  2]))\n",
      "(array([2, 3, 4]), array([3, 4, 5]))\n",
      "(array([5, 6, 7]), array([6, 7, 8]))\n",
      "(array([8, 9, 0]), array([ 9, 10,  1]))\n",
      "(array([1, 2, 3]), array([2, 3, 4]))\n",
      "(array([4, 5, 6]), array([5, 6, 7]))\n",
      "(array([7, 8, 9]), array([ 8,  9, 10]))\n",
      "(array([0, 1, 2]), array([1, 2, 3]))\n",
      "(array([3, 4, 5]), array([4, 5, 6]))\n",
      "(array([6, 7, 8]), array([7, 8, 9]))\n",
      "(array([9, 0, 1]), array([10,  1,  2]))\n",
      "(array([2, 3, 4]), array([3, 4, 5]))\n"
     ]
    }
   ],
   "source": [
    "# create dataset objects from the arrays\n",
    "dx = tf.data.Dataset.from_tensor_slices(x)\n",
    "dy = tf.data.Dataset.from_tensor_slices(y)\n",
    "# zip the two datasets together\n",
    "dcomb = tf.data.Dataset.zip((dx, dy)).repeat().batch(3)\n",
    "iterator = dcomb.make_initializable_iterator()\n",
    "# extract an element\n",
    "next_element = iterator.get_next()\n",
    "with tf.Session() as sess:\n",
    "    sess.run(iterator.initializer)\n",
    "    for i in range(15):\n",
    "        val = sess.run(next_element)\n",
    "        print(val)"
   ]
  },
  {
   "cell_type": "code",
   "execution_count": null,
   "metadata": {},
   "outputs": [],
   "source": []
  }
 ],
 "metadata": {
  "kernelspec": {
   "display_name": "Python 3",
   "language": "python",
   "name": "python3"
  },
  "language_info": {
   "codemirror_mode": {
    "name": "ipython",
    "version": 3
   },
   "file_extension": ".py",
   "mimetype": "text/x-python",
   "name": "python",
   "nbconvert_exporter": "python",
   "pygments_lexer": "ipython3",
   "version": "3.6.5"
  }
 },
 "nbformat": 4,
 "nbformat_minor": 2
}
