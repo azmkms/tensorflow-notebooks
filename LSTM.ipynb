{
 "cells": [
  {
   "cell_type": "code",
   "execution_count": 1,
   "metadata": {},
   "outputs": [
    {
     "name": "stdout",
     "output_type": "stream",
     "text": [
      "                     pollution  dew  temp   press wnd_dir  wnd_spd  snow  rain\n",
      "date                                                                          \n",
      "2010-01-02 00:00:00      129.0  -16  -4.0  1020.0      SE     1.79     0     0\n",
      "2010-01-02 01:00:00      148.0  -15  -4.0  1020.0      SE     2.68     0     0\n",
      "2010-01-02 02:00:00      159.0  -11  -5.0  1021.0      SE     3.57     0     0\n",
      "2010-01-02 03:00:00      181.0   -7  -5.0  1022.0      SE     5.36     1     0\n",
      "2010-01-02 04:00:00      138.0   -7  -5.0  1022.0      SE     6.25     2     0\n"
     ]
    }
   ],
   "source": [
    "from pandas import read_csv\n",
    "from datetime import datetime\n",
    "# load data\n",
    "def parse(x):\n",
    "    return datetime.strptime(x, '%Y %m %d %H')\n",
    "dataset = read_csv('raw.csv',  parse_dates = [['year', 'month', 'day', 'hour']], index_col=0, date_parser=parse)\n",
    "dataset.drop('No', axis=1, inplace=True)\n",
    "# manually specify column names\n",
    "dataset.columns = ['pollution', 'dew', 'temp', 'press', 'wnd_dir', 'wnd_spd', 'snow', 'rain']\n",
    "dataset.index.name = 'date'\n",
    "# mark all NA values with 0\n",
    "dataset['pollution'].fillna(0, inplace=True)\n",
    "# drop the first 24 hours\n",
    "dataset = dataset[24:]\n",
    "# summarize first 5 rows\n",
    "print(dataset.head(5))\n",
    "# save to file\n",
    "dataset.to_csv('pollution.csv')"
   ]
  },
  {
   "cell_type": "code",
   "execution_count": 2,
   "metadata": {},
   "outputs": [],
   "source": [
    "from math import sqrt\n",
    "from numpy import concatenate\n",
    "from matplotlib import pyplot\n",
    "from pandas import read_csv\n",
    "from pandas import DataFrame\n",
    "from pandas import concat\n",
    "from sklearn.preprocessing import MinMaxScaler\n",
    "from sklearn.preprocessing import LabelEncoder\n",
    "from sklearn.metrics import mean_squared_error\n",
    "import tensorflow as tf\n",
    "from tensorflow import keras"
   ]
  },
  {
   "cell_type": "code",
   "execution_count": 3,
   "metadata": {},
   "outputs": [],
   "source": [
    "# convert series to supervised learning\n",
    "def series_to_supervised(data, n_in=1, n_out=1, dropnan=True):\n",
    "    n_vars = 1 if type(data) is list else data.shape[1]\n",
    "    df = DataFrame(data)\n",
    "    cols, names = list(), list()\n",
    "    # input sequence (t-n, ... t-1)\n",
    "    for i in range(n_in, 0, -1):\n",
    "        cols.append(df.shift(i))\n",
    "        names += [('var%d(t-%d)' % (j+1, i)) for j in range(n_vars)]\n",
    "    # forecast sequence (t, t+1, ... t+n)\n",
    "    for i in range(0, n_out):\n",
    "        cols.append(df.shift(-i))\n",
    "        if i == 0:\n",
    "            names += [('var%d(t)' % (j+1)) for j in range(n_vars)]\n",
    "        else:\n",
    "            names += [('var%d(t+%d)' % (j+1, i)) for j in range(n_vars)]\n",
    "    # put it all together\n",
    "    agg = concat(cols, axis=1)\n",
    "    agg.columns = names\n",
    "    # drop rows with NaN values\n",
    "    if dropnan:\n",
    "        agg.dropna(inplace=True)\n",
    "    return agg"
   ]
  },
  {
   "cell_type": "code",
   "execution_count": 4,
   "metadata": {},
   "outputs": [],
   "source": [
    "# load dataset\n",
    "dataset = read_csv('pollution.csv', header=0, index_col=0)\n",
    "values = dataset.values\n",
    "# integer encode direction\n",
    "encoder = LabelEncoder()\n",
    "values[:,4] = encoder.fit_transform(values[:,4])\n",
    "# ensure all data is float\n",
    "values = values.astype('float32')\n",
    "# normalize features\n",
    "scaler = MinMaxScaler(feature_range=(0, 1))\n",
    "scaled = scaler.fit_transform(values)"
   ]
  },
  {
   "cell_type": "code",
   "execution_count": 5,
   "metadata": {},
   "outputs": [
    {
     "name": "stdout",
     "output_type": "stream",
     "text": [
      "(43797, 32)\n"
     ]
    }
   ],
   "source": [
    "# specify the number of lag hours\n",
    "n_hours = 3\n",
    "n_features = 8\n",
    "# frame as supervised learning\n",
    "reframed = series_to_supervised(scaled, n_hours, 1)\n",
    "print(reframed.shape)"
   ]
  },
  {
   "cell_type": "code",
   "execution_count": 6,
   "metadata": {},
   "outputs": [],
   "source": [
    "# split into train and test sets\n",
    "values = reframed.values\n",
    "n_train_hours = 365 * 24\n",
    "train = values[:n_train_hours, :]\n",
    "test = values[n_train_hours:, :]"
   ]
  },
  {
   "cell_type": "code",
   "execution_count": 7,
   "metadata": {},
   "outputs": [
    {
     "name": "stdout",
     "output_type": "stream",
     "text": [
      "(8760, 24) 8760 (8760,)\n"
     ]
    }
   ],
   "source": [
    "# split into input and outputs\n",
    "n_obs = n_hours * n_features\n",
    "train_X, train_y = train[:, :n_obs], train[:, -n_features]\n",
    "test_X, test_y = test[:, :n_obs], test[:, -n_features]\n",
    "print(train_X.shape, len(train_X), train_y.shape)"
   ]
  },
  {
   "cell_type": "code",
   "execution_count": 8,
   "metadata": {},
   "outputs": [
    {
     "name": "stdout",
     "output_type": "stream",
     "text": [
      "(8760, 3, 8) (8760,) (35037, 3, 8) (35037,)\n"
     ]
    }
   ],
   "source": [
    "# reshape input to be 3D [samples, timesteps, features]\n",
    "train_X = train_X.reshape((train_X.shape[0], n_hours, n_features))\n",
    "test_X = test_X.reshape((test_X.shape[0], n_hours, n_features))\n",
    "print(train_X.shape, train_y.shape, test_X.shape, test_y.shape)"
   ]
  },
  {
   "cell_type": "code",
   "execution_count": 9,
   "metadata": {},
   "outputs": [],
   "source": [
    "# design network\n",
    "model = keras.models.Sequential()\n",
    "model.add(keras.layers.LSTM(50, input_shape=(train_X.shape[1], train_X.shape[2])))\n",
    "model.add(keras.layers.Dense(1))\n",
    "model.compile(loss='mae', optimizer='adam')"
   ]
  },
  {
   "cell_type": "code",
   "execution_count": 10,
   "metadata": {},
   "outputs": [
    {
     "name": "stdout",
     "output_type": "stream",
     "text": [
      "Train on 8760 samples, validate on 35037 samples\n",
      "Epoch 1/50\n",
      " - 1s - loss: 0.0486 - val_loss: 0.0969\n",
      "Epoch 2/50\n",
      " - 1s - loss: 0.0283 - val_loss: 0.0632\n",
      "Epoch 3/50\n",
      " - 1s - loss: 0.0225 - val_loss: 0.0368\n",
      "Epoch 4/50\n",
      " - 1s - loss: 0.0218 - val_loss: 0.0306\n",
      "Epoch 5/50\n",
      " - 1s - loss: 0.0205 - val_loss: 0.0260\n",
      "Epoch 6/50\n",
      " - 1s - loss: 0.0205 - val_loss: 0.0226\n",
      "Epoch 7/50\n",
      " - 1s - loss: 0.0198 - val_loss: 0.0209\n",
      "Epoch 8/50\n",
      " - 1s - loss: 0.0193 - val_loss: 0.0198\n",
      "Epoch 9/50\n",
      " - 1s - loss: 0.0189 - val_loss: 0.0191\n",
      "Epoch 10/50\n",
      " - 1s - loss: 0.0183 - val_loss: 0.0186\n",
      "Epoch 11/50\n",
      " - 1s - loss: 0.0182 - val_loss: 0.0185\n",
      "Epoch 12/50\n",
      " - 1s - loss: 0.0176 - val_loss: 0.0185\n",
      "Epoch 13/50\n",
      " - 1s - loss: 0.0173 - val_loss: 0.0184\n",
      "Epoch 14/50\n",
      " - 1s - loss: 0.0171 - val_loss: 0.0182\n",
      "Epoch 15/50\n",
      " - 1s - loss: 0.0167 - val_loss: 0.0183\n",
      "Epoch 16/50\n",
      " - 1s - loss: 0.0163 - val_loss: 0.0191\n",
      "Epoch 17/50\n",
      " - 1s - loss: 0.0160 - val_loss: 0.0195\n",
      "Epoch 18/50\n",
      " - 1s - loss: 0.0157 - val_loss: 0.0195\n",
      "Epoch 19/50\n",
      " - 1s - loss: 0.0154 - val_loss: 0.0190\n",
      "Epoch 20/50\n",
      " - 1s - loss: 0.0152 - val_loss: 0.0188\n",
      "Epoch 21/50\n",
      " - 1s - loss: 0.0151 - val_loss: 0.0182\n",
      "Epoch 22/50\n",
      " - 1s - loss: 0.0149 - val_loss: 0.0183\n",
      "Epoch 23/50\n",
      " - 1s - loss: 0.0149 - val_loss: 0.0178\n",
      "Epoch 24/50\n",
      " - 1s - loss: 0.0147 - val_loss: 0.0182\n",
      "Epoch 25/50\n",
      " - 1s - loss: 0.0151 - val_loss: 0.0163\n",
      "Epoch 26/50\n",
      " - 1s - loss: 0.0147 - val_loss: 0.0183\n",
      "Epoch 27/50\n",
      " - 1s - loss: 0.0148 - val_loss: 0.0170\n",
      "Epoch 28/50\n",
      " - 1s - loss: 0.0147 - val_loss: 0.0177\n",
      "Epoch 29/50\n",
      " - 1s - loss: 0.0147 - val_loss: 0.0167\n",
      "Epoch 30/50\n",
      " - 1s - loss: 0.0145 - val_loss: 0.0173\n",
      "Epoch 31/50\n",
      " - 1s - loss: 0.0147 - val_loss: 0.0164\n",
      "Epoch 32/50\n",
      " - 1s - loss: 0.0145 - val_loss: 0.0166\n",
      "Epoch 33/50\n",
      " - 1s - loss: 0.0145 - val_loss: 0.0167\n",
      "Epoch 34/50\n",
      " - 1s - loss: 0.0145 - val_loss: 0.0157\n",
      "Epoch 35/50\n",
      " - 1s - loss: 0.0145 - val_loss: 0.0160\n",
      "Epoch 36/50\n",
      " - 1s - loss: 0.0145 - val_loss: 0.0160\n",
      "Epoch 37/50\n",
      " - 1s - loss: 0.0145 - val_loss: 0.0160\n",
      "Epoch 38/50\n",
      " - 1s - loss: 0.0145 - val_loss: 0.0154\n",
      "Epoch 39/50\n",
      " - 1s - loss: 0.0143 - val_loss: 0.0155\n",
      "Epoch 40/50\n",
      " - 1s - loss: 0.0145 - val_loss: 0.0150\n",
      "Epoch 41/50\n",
      " - 1s - loss: 0.0143 - val_loss: 0.0150\n",
      "Epoch 42/50\n",
      " - 1s - loss: 0.0145 - val_loss: 0.0153\n",
      "Epoch 43/50\n",
      " - 1s - loss: 0.0143 - val_loss: 0.0148\n",
      "Epoch 44/50\n",
      " - 1s - loss: 0.0145 - val_loss: 0.0152\n",
      "Epoch 45/50\n",
      " - 1s - loss: 0.0143 - val_loss: 0.0146\n",
      "Epoch 46/50\n",
      " - 1s - loss: 0.0144 - val_loss: 0.0146\n",
      "Epoch 47/50\n",
      " - 1s - loss: 0.0144 - val_loss: 0.0142\n",
      "Epoch 48/50\n",
      " - 1s - loss: 0.0143 - val_loss: 0.0143\n",
      "Epoch 49/50\n",
      " - 1s - loss: 0.0143 - val_loss: 0.0142\n",
      "Epoch 50/50\n",
      " - 1s - loss: 0.0143 - val_loss: 0.0140\n"
     ]
    }
   ],
   "source": [
    "# fit network\n",
    "history = model.fit(train_X, train_y, epochs=50, batch_size=72, validation_data=(test_X, test_y), verbose=2, shuffle=False)"
   ]
  },
  {
   "cell_type": "code",
   "execution_count": 11,
   "metadata": {},
   "outputs": [
    {
     "data": {
      "image/png": "[encoded data removed]",
      "text/plain": [
       "<Figure size 432x288 with 1 Axes>"
      ]
     },
     "metadata": {},
     "output_type": "display_data"
    }
   ],
   "source": [
    "# plot history\n",
    "pyplot.plot(history.history['loss'], label='train')\n",
    "pyplot.plot(history.history['val_loss'], label='test')\n",
    "pyplot.legend()\n",
    "pyplot.show()"
   ]
  },
  {
   "cell_type": "code",
   "execution_count": 12,
   "metadata": {},
   "outputs": [],
   "source": [
    "# make a prediction\n",
    "yhat = model.predict(test_X)\n",
    "test_X = test_X.reshape((test_X.shape[0], n_hours*n_features))"
   ]
  },
  {
   "cell_type": "code",
   "execution_count": 13,
   "metadata": {},
   "outputs": [],
   "source": [
    "# invert scaling for forecast\n",
    "inv_yhat = concatenate((yhat, test_X[:, -7:]), axis=1)\n",
    "inv_yhat = scaler.inverse_transform(inv_yhat)\n",
    "inv_yhat = inv_yhat[:,0]\n",
    "# invert scaling for actual\n",
    "test_y = test_y.reshape((len(test_y), 1))\n",
    "inv_y = concatenate((test_y, test_X[:, -7:]), axis=1)\n",
    "inv_y = scaler.inverse_transform(inv_y)\n",
    "inv_y = inv_y[:,0]"
   ]
  },
  {
   "cell_type": "code",
   "execution_count": 14,
   "metadata": {},
   "outputs": [
    {
     "name": "stdout",
     "output_type": "stream",
     "text": [
      "Test RMSE: 26.612\n"
     ]
    }
   ],
   "source": [
    "# calculate RMSE\n",
    "rmse = sqrt(mean_squared_error(inv_y, inv_yhat))\n",
    "print('Test RMSE: %.3f' % rmse)"
   ]
  },
  {
   "cell_type": "code",
   "execution_count": 15,
   "metadata": {},
   "outputs": [
    {
     "name": "stdout",
     "output_type": "stream",
     "text": [
      "INFO:tensorflow:Using the Keras model provided.\n",
      "INFO:tensorflow:Using default config.\n",
      "WARNING:tensorflow:Using temporary folder as model directory: /tmp/tmpikul2yyt\n",
      "INFO:tensorflow:Using config: {'_model_dir': '/tmp/tmpikul2yyt', '_tf_random_seed': None, '_save_summary_steps': 100, '_save_checkpoints_steps': None, '_save_checkpoints_secs': 600, '_session_config': None, '_keep_checkpoint_max': 5, '_keep_checkpoint_every_n_hours': 10000, '_log_step_count_steps': 100, '_train_distribute': None, '_service': None, '_cluster_spec': <tensorflow.python.training.server_lib.ClusterSpec object at 0x7f868c6fed30>, '_task_type': 'worker', '_task_id': 0, '_global_id_in_cluster': 0, '_master': '', '_evaluation_master': '', '_is_chief': True, '_num_ps_replicas': 0, '_num_worker_replicas': 1}\n"
     ]
    }
   ],
   "source": [
    "estimator_model = keras.estimator.model_to_estimator(keras_model=model)"
   ]
  },
  {
   "cell_type": "code",
   "execution_count": 16,
   "metadata": {},
   "outputs": [],
   "source": [
    "# Define input fn\n",
    "def input_function(features, labels=None):\n",
    "    input_fn = tf.estimator.inputs.numpy_input_fn(\n",
    "        x={\"lstm_1_input\": features}, # See the accompanying blog post for explanation on naming\n",
    "        y=labels,\n",
    "        shuffle=False\n",
    "    )\n",
    "    return input_fn"
   ]
  },
  {
   "cell_type": "code",
   "execution_count": 17,
   "metadata": {},
   "outputs": [
    {
     "name": "stdout",
     "output_type": "stream",
     "text": [
      "INFO:tensorflow:Calling model_fn.\n",
      "INFO:tensorflow:Done calling model_fn.\n",
      "INFO:tensorflow:Create CheckpointSaverHook.\n",
      "INFO:tensorflow:Graph was finalized.\n",
      "INFO:tensorflow:Restoring parameters from /tmp/tmpikul2yyt/keras_model.ckpt\n",
      "INFO:tensorflow:Running local_init_op.\n",
      "INFO:tensorflow:Done running local_init_op.\n",
      "INFO:tensorflow:Saving checkpoints for 1 into /tmp/tmpikul2yyt/model.ckpt.\n",
      "INFO:tensorflow:loss = 0.048582368, step = 1\n",
      "INFO:tensorflow:Saving checkpoints for 70 into /tmp/tmpikul2yyt/model.ckpt.\n",
      "INFO:tensorflow:Loss for final step: 0.052411895.\n"
     ]
    },
    {
     "data": {
      "text/plain": [
       "<tensorflow.python.estimator.estimator.Estimator at 0x7f86a71c6ef0>"
      ]
     },
     "execution_count": 17,
     "metadata": {},
     "output_type": "execute_result"
    }
   ],
   "source": [
    "estimator_model.train(input_fn=input_function(train_X, train_y))"
   ]
  },
  {
   "cell_type": "code",
   "execution_count": 25,
   "metadata": {},
   "outputs": [
    {
     "name": "stdout",
     "output_type": "stream",
     "text": [
      "(8760, 24) 8760 (8760,)\n",
      "(8760, 3, 8) (8760,) (35037, 3, 8) (35037,)\n"
     ]
    }
   ],
   "source": [
    "# split into train and test sets\n",
    "values = reframed.values\n",
    "n_train_hours = 365 * 24\n",
    "train = values[:n_train_hours, :]\n",
    "test = values[n_train_hours:, :]\n",
    "# split into input and outputs\n",
    "n_obs = n_hours * n_features\n",
    "train_X, train_y = train[:, :n_obs], train[:, -n_features]\n",
    "test_X, test_y = test[:, :n_obs], test[:, -n_features]\n",
    "print(train_X.shape, len(train_X), train_y.shape)\n",
    "# reshape input to be 3D [samples, timesteps, features]\n",
    "train_X = train_X.reshape((train_X.shape[0], n_hours, n_features))\n",
    "test_X = test_X.reshape((test_X.shape[0], n_hours, n_features))\n",
    "print(train_X.shape, train_y.shape, test_X.shape, test_y.shape)"
   ]
  },
  {
   "cell_type": "code",
   "execution_count": 26,
   "metadata": {},
   "outputs": [
    {
     "name": "stdout",
     "output_type": "stream",
     "text": [
      "INFO:tensorflow:Calling model_fn.\n",
      "INFO:tensorflow:Done calling model_fn.\n",
      "INFO:tensorflow:Starting evaluation at 2018-06-12-18:28:02\n",
      "INFO:tensorflow:Graph was finalized.\n",
      "INFO:tensorflow:Restoring parameters from /tmp/tmpikul2yyt/model.ckpt-70\n",
      "INFO:tensorflow:Running local_init_op.\n",
      "INFO:tensorflow:Done running local_init_op.\n",
      "INFO:tensorflow:Finished evaluation at 2018-06-12-18:28:03\n",
      "INFO:tensorflow:Saving dict for global step 70: global_step = 70, loss = 0.06928723\n",
      "{'loss': 0.06928723, 'global_step': 70}\n"
     ]
    }
   ],
   "source": [
    "score = estimator_model.evaluate(input_function(test_X, labels=test_y))\n",
    "print(score)"
   ]
  },
  {
   "cell_type": "code",
   "execution_count": 27,
   "metadata": {},
   "outputs": [
    {
     "name": "stdout",
     "output_type": "stream",
     "text": [
      "INFO:tensorflow:Calling model_fn.\n",
      "INFO:tensorflow:Done calling model_fn.\n",
      "INFO:tensorflow:Graph was finalized.\n",
      "INFO:tensorflow:Restoring parameters from /tmp/tmpikul2yyt/model.ckpt-70\n",
      "INFO:tensorflow:Running local_init_op.\n",
      "INFO:tensorflow:Done running local_init_op.\n"
     ]
    }
   ],
   "source": [
    "import numpy as np\n",
    "yhats = list(estimator_model.predict(input_function(test_X)))\n",
    "yhat = np.array([list(yhats[i].values()) for i in range(len(yhats))])\n",
    "yhat = np.squeeze(yhat, axis=1)"
   ]
  },
  {
   "cell_type": "code",
   "execution_count": 28,
   "metadata": {},
   "outputs": [
    {
     "name": "stdout",
     "output_type": "stream",
     "text": [
      "Test RMSE: 62.591\n"
     ]
    }
   ],
   "source": [
    "test_X = test_X.reshape((test_X.shape[0], n_hours*n_features))\n",
    "# invert scaling for forecast\n",
    "inv_yhat = concatenate((yhat, test_X[:, -7:]), axis=1)\n",
    "inv_yhat = scaler.inverse_transform(inv_yhat)\n",
    "inv_yhat = inv_yhat[:,0]\n",
    "# invert scaling for actual\n",
    "test_y = test_y.reshape((len(test_y), 1))\n",
    "inv_y = concatenate((test_y, test_X[:, -7:]), axis=1)\n",
    "inv_y = scaler.inverse_transform(inv_y)\n",
    "inv_y = inv_y[:,0]\n",
    "# calculate RMSE\n",
    "rmse = sqrt(mean_squared_error(inv_y, inv_yhat))\n",
    "print('Test RMSE: %.3f' % rmse)"
   ]
  }
 ],
 "metadata": {
  "kernelspec": {
   "display_name": "Python 3",
   "language": "python",
   "name": "python3"
  },
  "language_info": {
   "codemirror_mode": {
    "name": "ipython",
    "version": 3
   },
   "file_extension": ".py",
   "mimetype": "text/x-python",
   "name": "python",
   "nbconvert_exporter": "python",
   "pygments_lexer": "ipython3",
   "version": "3.6.5"
  }
 },
 "nbformat": 4,
 "nbformat_minor": 2
}
