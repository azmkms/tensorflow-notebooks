{
 "cells": [
  {
   "cell_type": "code",
   "execution_count": 1,
   "metadata": {},
   "outputs": [
    {
     "name": "stdout",
     "output_type": "stream",
     "text": [
      "TensorFlow version 1.8.0\n"
     ]
    },
    {
     "name": "stderr",
     "output_type": "stream",
     "text": [
      "Using TensorFlow backend.\n"
     ]
    }
   ],
   "source": [
    "import os\n",
    "import numpy as np\n",
    "import pandas as pd\n",
    "import tensorflow as tf\n",
    "\n",
    "from sklearn.model_selection import train_test_split\n",
    "from sklearn.preprocessing import LabelEncoder\n",
    "\n",
    "from IPython.display import SVG\n",
    "from keras.utils.vis_utils import model_to_dot\n",
    "\n",
    "from tensorflow import keras\n",
    "layers = keras.layers\n",
    "\n",
    "print(\"TensorFlow version\", tf.__version__)"
   ]
  },
  {
   "cell_type": "code",
   "execution_count": 2,
   "metadata": {},
   "outputs": [],
   "source": [
    "# create bag of words vocabulary for description\n",
    "vocab_size = 12000\n",
    "num_classes = 40\n",
    "max_seq_length = 170"
   ]
  },
  {
   "cell_type": "code",
   "execution_count": 3,
   "metadata": {},
   "outputs": [
    {
     "name": "stdout",
     "output_type": "stream",
     "text": [
      "__________________________________________________________________________________________________\n",
      "Layer (type)                    Output Shape         Param #     Connected to                     \n",
      "==================================================================================================\n",
      "input_1 (InputLayer)            (None, 12000)        0                                            \n",
      "__________________________________________________________________________________________________\n",
      "input_2 (InputLayer)            (None, 40)           0                                            \n",
      "__________________________________________________________________________________________________\n",
      "concatenate_1 (Concatenate)     (None, 12040)        0           input_1[0][0]                    \n",
      "                                                                 input_2[0][0]                    \n",
      "__________________________________________________________________________________________________\n",
      "dense_1 (Dense)                 (None, 256)          3082496     concatenate_1[0][0]              \n",
      "__________________________________________________________________________________________________\n",
      "dense_2 (Dense)                 (None, 1)            257         dense_1[0][0]                    \n",
      "==================================================================================================\n",
      "Total params: 3,082,753\n",
      "Trainable params: 3,082,753\n",
      "Non-trainable params: 0\n",
      "__________________________________________________________________________________________________\n",
      "None\n"
     ]
    }
   ],
   "source": [
    "# wide model\n",
    "bow_inputs = layers.Input(shape=(vocab_size,)) \n",
    "variety_inputs = layers.Input(shape=(num_classes,))\n",
    "wide_inputs = layers.concatenate([bow_inputs, variety_inputs])\n",
    "wide_inputs = layers.Dense(256, activation='relu')(wide_inputs)\n",
    "predictions = layers.Dense(1)(wide_inputs)\n",
    "wide_model = keras.Model(inputs=[bow_inputs, variety_inputs], outputs=predictions)\n",
    "print(wide_model.summary())"
   ]
  },
  {
   "cell_type": "code",
   "execution_count": 4,
   "metadata": {},
   "outputs": [
    {
     "name": "stdout",
     "output_type": "stream",
     "text": [
      "_________________________________________________________________\n",
      "Layer (type)                 Output Shape              Param #   \n",
      "=================================================================\n",
      "input_3 (InputLayer)         (None, 170)               0         \n",
      "_________________________________________________________________\n",
      "embedding_1 (Embedding)      (None, 170, 8)            96000     \n",
      "_________________________________________________________________\n",
      "flatten_1 (Flatten)          (None, 1360)              0         \n",
      "_________________________________________________________________\n",
      "dense_3 (Dense)              (None, 1)                 1361      \n",
      "=================================================================\n",
      "Total params: 97,361\n",
      "Trainable params: 97,361\n",
      "Non-trainable params: 0\n",
      "_________________________________________________________________\n",
      "None\n"
     ]
    }
   ],
   "source": [
    "deep_inputs = layers.Input(shape=(max_seq_length,))\n",
    "embedding = layers.Embedding(vocab_size, 8, input_length=max_seq_length)(deep_inputs)\n",
    "embedding = layers.Flatten()(embedding)\n",
    "embed_out = layers.Dense(1)(embedding)\n",
    "deep_model = keras.Model(inputs=deep_inputs, outputs=embed_out)\n",
    "print(deep_model.summary())"
   ]
  },
  {
   "cell_type": "code",
   "execution_count": 5,
   "metadata": {},
   "outputs": [
    {
     "name": "stdout",
     "output_type": "stream",
     "text": [
      "__________________________________________________________________________________________________\n",
      "Layer (type)                    Output Shape         Param #     Connected to                     \n",
      "==================================================================================================\n",
      "input_1 (InputLayer)            (None, 12000)        0                                            \n",
      "__________________________________________________________________________________________________\n",
      "input_2 (InputLayer)            (None, 40)           0                                            \n",
      "__________________________________________________________________________________________________\n",
      "input_3 (InputLayer)            (None, 170)          0                                            \n",
      "__________________________________________________________________________________________________\n",
      "concatenate_1 (Concatenate)     (None, 12040)        0           input_1[0][0]                    \n",
      "                                                                 input_2[0][0]                    \n",
      "__________________________________________________________________________________________________\n",
      "embedding_1 (Embedding)         (None, 170, 8)       96000       input_3[0][0]                    \n",
      "__________________________________________________________________________________________________\n",
      "dense_1 (Dense)                 (None, 256)          3082496     concatenate_1[0][0]              \n",
      "__________________________________________________________________________________________________\n",
      "flatten_1 (Flatten)             (None, 1360)         0           embedding_1[0][0]                \n",
      "__________________________________________________________________________________________________\n",
      "dense_2 (Dense)                 (None, 1)            257         dense_1[0][0]                    \n",
      "__________________________________________________________________________________________________\n",
      "dense_3 (Dense)                 (None, 1)            1361        flatten_1[0][0]                  \n",
      "__________________________________________________________________________________________________\n",
      "concatenate_2 (Concatenate)     (None, 2)            0           dense_2[0][0]                    \n",
      "                                                                 dense_3[0][0]                    \n",
      "__________________________________________________________________________________________________\n",
      "dense_4 (Dense)                 (None, 1)            3           concatenate_2[0][0]              \n",
      "==================================================================================================\n",
      "Total params: 3,180,117\n",
      "Trainable params: 3,180,117\n",
      "Non-trainable params: 0\n",
      "__________________________________________________________________________________________________\n",
      "None\n"
     ]
    }
   ],
   "source": [
    "# Combine wide and deep into one model\n",
    "merged_out = layers.concatenate([wide_model.output, deep_model.output])\n",
    "merged_out = layers.Dense(1)(merged_out)\n",
    "combined_model = keras.Model(wide_model.input + [deep_model.input], merged_out)\n",
    "print(combined_model.summary())"
   ]
  },
  {
   "cell_type": "code",
   "execution_count": 6,
   "metadata": {},
   "outputs": [
    {
     "data": {
      "image/svg+xml": [
       "<svg height=\"410pt\" viewBox=\"0.00 0.00 571.50 410.00\" width=\"572pt\" xmlns=\"http://www.w3.org/2000/svg\" xmlns:xlink=\"http://www.w3.org/1999/xlink\">\n",
       "<g class=\"graph\" id=\"graph0\" transform=\"scale(1 1) rotate(0) translate(4 406)\">\n",
       "<title>G</title>\n",
       "<polygon fill=\"white\" points=\"-4,4 -4,-406 567.5,-406 567.5,4 -4,4\" stroke=\"none\"/>\n",
       "<!-- 140635947526856 -->\n",
       "<g class=\"node\" id=\"node1\"><title>140635947526856</title>\n",
       "<polygon fill=\"none\" points=\"0,-365.5 0,-401.5 160,-401.5 160,-365.5 0,-365.5\" stroke=\"black\"/>\n",
       "<text font-family=\"Times,serif\" font-size=\"14.00\" text-anchor=\"middle\" x=\"80\" y=\"-379.8\">input_1: InputLayer</text>\n",
       "</g>\n",
       "<!-- 140635947527864 -->\n",
       "<g class=\"node\" id=\"node4\"><title>140635947527864</title>\n",
       "<polygon fill=\"none\" points=\"121.5,-292.5 121.5,-328.5 342.5,-328.5 342.5,-292.5 121.5,-292.5\" stroke=\"black\"/>\n",
       "<text font-family=\"Times,serif\" font-size=\"14.00\" text-anchor=\"middle\" x=\"232\" y=\"-306.8\">concatenate_1: Concatenate</text>\n",
       "</g>\n",
       "<!-- 140635947526856&#45;&gt;140635947527864 -->\n",
       "<g class=\"edge\" id=\"edge1\"><title>140635947526856-&gt;140635947527864</title>\n",
       "<path d=\"M116.408,-365.494C137.311,-355.73 163.758,-343.376 186.078,-332.951\" fill=\"none\" stroke=\"black\"/>\n",
       "<polygon fill=\"black\" points=\"187.783,-336.017 195.362,-328.614 184.821,-329.675 187.783,-336.017\" stroke=\"black\"/>\n",
       "</g>\n",
       "<!-- 140635947526912 -->\n",
       "<g class=\"node\" id=\"node2\"><title>140635947526912</title>\n",
       "<polygon fill=\"none\" points=\"178,-365.5 178,-401.5 338,-401.5 338,-365.5 178,-365.5\" stroke=\"black\"/>\n",
       "<text font-family=\"Times,serif\" font-size=\"14.00\" text-anchor=\"middle\" x=\"258\" y=\"-379.8\">input_2: InputLayer</text>\n",
       "</g>\n",
       "<!-- 140635947526912&#45;&gt;140635947527864 -->\n",
       "<g class=\"edge\" id=\"edge2\"><title>140635947526912-&gt;140635947527864</title>\n",
       "<path d=\"M251.706,-365.313C248.704,-357.115 245.045,-347.123 241.699,-337.985\" fill=\"none\" stroke=\"black\"/>\n",
       "<polygon fill=\"black\" points=\"244.961,-336.715 238.236,-328.529 238.388,-339.123 244.961,-336.715\" stroke=\"black\"/>\n",
       "</g>\n",
       "<!-- 140635947525960 -->\n",
       "<g class=\"node\" id=\"node3\"><title>140635947525960</title>\n",
       "<polygon fill=\"none\" points=\"382,-365.5 382,-401.5 542,-401.5 542,-365.5 382,-365.5\" stroke=\"black\"/>\n",
       "<text font-family=\"Times,serif\" font-size=\"14.00\" text-anchor=\"middle\" x=\"462\" y=\"-379.8\">input_3: InputLayer</text>\n",
       "</g>\n",
       "<!-- 140635947209224 -->\n",
       "<g class=\"node\" id=\"node5\"><title>140635947209224</title>\n",
       "<polygon fill=\"none\" points=\"360.5,-292.5 360.5,-328.5 563.5,-328.5 563.5,-292.5 360.5,-292.5\" stroke=\"black\"/>\n",
       "<text font-family=\"Times,serif\" font-size=\"14.00\" text-anchor=\"middle\" x=\"462\" y=\"-306.8\">embedding_1: Embedding</text>\n",
       "</g>\n",
       "<!-- 140635947525960&#45;&gt;140635947209224 -->\n",
       "<g class=\"edge\" id=\"edge3\"><title>140635947525960-&gt;140635947209224</title>\n",
       "<path d=\"M462,-365.313C462,-357.289 462,-347.547 462,-338.569\" fill=\"none\" stroke=\"black\"/>\n",
       "<polygon fill=\"black\" points=\"465.5,-338.529 462,-328.529 458.5,-338.529 465.5,-338.529\" stroke=\"black\"/>\n",
       "</g>\n",
       "<!-- 140635947527640 -->\n",
       "<g class=\"node\" id=\"node6\"><title>140635947527640</title>\n",
       "<polygon fill=\"none\" points=\"207,-219.5 207,-255.5 335,-255.5 335,-219.5 207,-219.5\" stroke=\"black\"/>\n",
       "<text font-family=\"Times,serif\" font-size=\"14.00\" text-anchor=\"middle\" x=\"271\" y=\"-233.8\">dense_1: Dense</text>\n",
       "</g>\n",
       "<!-- 140635947527864&#45;&gt;140635947527640 -->\n",
       "<g class=\"edge\" id=\"edge4\"><title>140635947527864-&gt;140635947527640</title>\n",
       "<path d=\"M241.441,-292.313C246.04,-283.941 251.666,-273.697 256.772,-264.403\" fill=\"none\" stroke=\"black\"/>\n",
       "<polygon fill=\"black\" points=\"259.899,-265.979 261.646,-255.529 253.764,-262.609 259.899,-265.979\" stroke=\"black\"/>\n",
       "</g>\n",
       "<!-- 140635947209504 -->\n",
       "<g class=\"node\" id=\"node7\"><title>140635947209504</title>\n",
       "<polygon fill=\"none\" points=\"372,-219.5 372,-255.5 512,-255.5 512,-219.5 372,-219.5\" stroke=\"black\"/>\n",
       "<text font-family=\"Times,serif\" font-size=\"14.00\" text-anchor=\"middle\" x=\"442\" y=\"-233.8\">flatten_1: Flatten</text>\n",
       "</g>\n",
       "<!-- 140635947209224&#45;&gt;140635947209504 -->\n",
       "<g class=\"edge\" id=\"edge5\"><title>140635947209224-&gt;140635947209504</title>\n",
       "<path d=\"M457.159,-292.313C454.874,-284.202 452.095,-274.336 449.543,-265.277\" fill=\"none\" stroke=\"black\"/>\n",
       "<polygon fill=\"black\" points=\"452.877,-264.205 446.797,-255.529 446.139,-266.103 452.877,-264.205\" stroke=\"black\"/>\n",
       "</g>\n",
       "<!-- 140637164631544 -->\n",
       "<g class=\"node\" id=\"node8\"><title>140637164631544</title>\n",
       "<polygon fill=\"none\" points=\"219,-146.5 219,-182.5 347,-182.5 347,-146.5 219,-146.5\" stroke=\"black\"/>\n",
       "<text font-family=\"Times,serif\" font-size=\"14.00\" text-anchor=\"middle\" x=\"283\" y=\"-160.8\">dense_2: Dense</text>\n",
       "</g>\n",
       "<!-- 140635947527640&#45;&gt;140637164631544 -->\n",
       "<g class=\"edge\" id=\"edge6\"><title>140635947527640-&gt;140637164631544</title>\n",
       "<path d=\"M273.905,-219.313C275.261,-211.289 276.907,-201.547 278.425,-192.569\" fill=\"none\" stroke=\"black\"/>\n",
       "<polygon fill=\"black\" points=\"281.906,-192.972 280.122,-182.529 275.004,-191.806 281.906,-192.972\" stroke=\"black\"/>\n",
       "</g>\n",
       "<!-- 140635947526408 -->\n",
       "<g class=\"node\" id=\"node9\"><title>140635947526408</title>\n",
       "<polygon fill=\"none\" points=\"371,-146.5 371,-182.5 499,-182.5 499,-146.5 371,-146.5\" stroke=\"black\"/>\n",
       "<text font-family=\"Times,serif\" font-size=\"14.00\" text-anchor=\"middle\" x=\"435\" y=\"-160.8\">dense_3: Dense</text>\n",
       "</g>\n",
       "<!-- 140635947209504&#45;&gt;140635947526408 -->\n",
       "<g class=\"edge\" id=\"edge7\"><title>140635947209504-&gt;140635947526408</title>\n",
       "<path d=\"M440.305,-219.313C439.514,-211.289 438.554,-201.547 437.669,-192.569\" fill=\"none\" stroke=\"black\"/>\n",
       "<polygon fill=\"black\" points=\"441.143,-192.137 436.679,-182.529 434.177,-192.824 441.143,-192.137\" stroke=\"black\"/>\n",
       "</g>\n",
       "<!-- 140635947525568 -->\n",
       "<g class=\"node\" id=\"node10\"><title>140635947525568</title>\n",
       "<polygon fill=\"none\" points=\"248.5,-73.5 248.5,-109.5 469.5,-109.5 469.5,-73.5 248.5,-73.5\" stroke=\"black\"/>\n",
       "<text font-family=\"Times,serif\" font-size=\"14.00\" text-anchor=\"middle\" x=\"359\" y=\"-87.8\">concatenate_2: Concatenate</text>\n",
       "</g>\n",
       "<!-- 140637164631544&#45;&gt;140635947525568 -->\n",
       "<g class=\"edge\" id=\"edge8\"><title>140637164631544-&gt;140635947525568</title>\n",
       "<path d=\"M301.397,-146.313C311.013,-137.33 322.934,-126.193 333.432,-116.386\" fill=\"none\" stroke=\"black\"/>\n",
       "<polygon fill=\"black\" points=\"335.854,-118.913 340.772,-109.529 331.075,-113.798 335.854,-118.913\" stroke=\"black\"/>\n",
       "</g>\n",
       "<!-- 140635947526408&#45;&gt;140635947525568 -->\n",
       "<g class=\"edge\" id=\"edge9\"><title>140635947526408-&gt;140635947525568</title>\n",
       "<path d=\"M416.603,-146.313C406.987,-137.33 395.066,-126.193 384.568,-116.386\" fill=\"none\" stroke=\"black\"/>\n",
       "<polygon fill=\"black\" points=\"386.925,-113.798 377.228,-109.529 382.146,-118.913 386.925,-113.798\" stroke=\"black\"/>\n",
       "</g>\n",
       "<!-- 140635947525624 -->\n",
       "<g class=\"node\" id=\"node11\"><title>140635947525624</title>\n",
       "<polygon fill=\"none\" points=\"295,-0.5 295,-36.5 423,-36.5 423,-0.5 295,-0.5\" stroke=\"black\"/>\n",
       "<text font-family=\"Times,serif\" font-size=\"14.00\" text-anchor=\"middle\" x=\"359\" y=\"-14.8\">dense_4: Dense</text>\n",
       "</g>\n",
       "<!-- 140635947525568&#45;&gt;140635947525624 -->\n",
       "<g class=\"edge\" id=\"edge10\"><title>140635947525568-&gt;140635947525624</title>\n",
       "<path d=\"M359,-73.3129C359,-65.2895 359,-55.5475 359,-46.5691\" fill=\"none\" stroke=\"black\"/>\n",
       "<polygon fill=\"black\" points=\"362.5,-46.5288 359,-36.5288 355.5,-46.5289 362.5,-46.5288\" stroke=\"black\"/>\n",
       "</g>\n",
       "</g>\n",
       "</svg>"
      ],
      "text/plain": [
       "<IPython.core.display.SVG object>"
      ]
     },
     "execution_count": 6,
     "metadata": {},
     "output_type": "execute_result"
    }
   ],
   "source": [
    "SVG(model_to_dot(combined_model).create(prog='dot', format='svg'))"
   ]
  }
 ],
 "metadata": {
  "kernelspec": {
   "display_name": "Python 3",
   "language": "python",
   "name": "python3"
  },
  "language_info": {
   "codemirror_mode": {
    "name": "ipython",
    "version": 3
   },
   "file_extension": ".py",
   "mimetype": "text/x-python",
   "name": "python",
   "nbconvert_exporter": "python",
   "pygments_lexer": "ipython3",
   "version": "3.6.5"
  }
 },
 "nbformat": 4,
 "nbformat_minor": 2
}
